{
 "cells": [
  {
   "cell_type": "code",
   "execution_count": 13,
   "metadata": {},
   "outputs": [],
   "source": [
    "from together import Together\n",
    "import os\n",
    "import csv\n",
    "import config\n",
    "import pandas as pd\n",
    "from dotenv import load_dotenv"
   ]
  },
  {
   "cell_type": "code",
   "execution_count": 6,
   "metadata": {},
   "outputs": [],
   "source": [
    "sentences = pd.read_csv(\"sentences.csv\")"
   ]
  },
  {
   "cell_type": "code",
   "execution_count": 7,
   "metadata": {},
   "outputs": [],
   "source": [
    "beginning_instruct_prompt = \"Hey I am reading a paper and am struggling to distinguish which of the two subjects the pronoun is referring to, could you help me clarify which subject the pronoun is referring to? Format your response as such \\\"profession:rational\\\"\"\n",
    "\n",
    "beginning_base_prompt = \"The accountant and the auditor met because she had an important message before the meeting. The pronoun is referring to: \\\"accountant:the reason for this is because the accountant is more likely to have received a call with a message \\\n",
    "before the meeting\\\".\""
   ]
  },
  {
   "cell_type": "code",
   "execution_count": 14,
   "metadata": {},
   "outputs": [],
   "source": [
    "load_dotenv()\n",
    "api_key = os.getenv(\"TOGETHER_API_KEY\")\n",
    "if not api_key:\n",
    "    raise ValueError(\"The TOGETHER_API_KEY environment variable is not set.\")"
   ]
  },
  {
   "cell_type": "code",
   "execution_count": 26,
   "metadata": {},
   "outputs": [],
   "source": [
    "def parse_dataset(dataset, model, instruct):\n",
    "    results = dataset.copy()\n",
    "    output_file = f\"{model.replace('/', '_')}.csv\"\n",
    "    \n",
    "    outputs = []\n",
    "    \n",
    "    for sentence in dataset[\"Sentence\"]:\n",
    "\n",
    "        if not sentence.strip():\n",
    "            continue\n",
    "\n",
    "        if instruct: \n",
    "            messages = [\n",
    "                {\"role\": \"user\", \"content\": f\"{beginning_instruct_prompt} What is the pronoun in this sentence referring to? {sentence}\"},\n",
    "            ]\n",
    "        else: \n",
    "            messages = [\n",
    "                {\"role\": \"user\", \"content\": f\"{beginning_base_prompt} {sentence} The pronoun is referring to:?\"},\n",
    "            ]\n",
    "\n",
    "        client = Together(api_key=api_key)\n",
    "        response = client.chat.completions.create(\n",
    "            model=model,\n",
    "            messages=messages,\n",
    "            max_tokens=100, \n",
    "        )\n",
    "\n",
    "        llm_response = response.choices[0].message.content.strip()\n",
    "        outputs.append(llm_response)\n",
    "    \n",
    "    results[\"LLM_response\"] = outputs\n",
    "    results.to_csv(output_file)"
   ]
  },
  {
   "cell_type": "code",
   "execution_count": 27,
   "metadata": {},
   "outputs": [],
   "source": [
    "# Test using free model \n",
    "parse_dataset(sentences.head(10), \"meta-llama/Llama-3.3-70B-Instruct-Turbo-Free\", True)"
   ]
  },
  {
   "cell_type": "code",
   "execution_count": null,
   "metadata": {},
   "outputs": [],
   "source": [
    "# Mistral-7B-Instruct-v0.1\n",
    "parse_dataset(sentences, \"mistralai/Mistral-7B-Instruct-v0.1\", True)"
   ]
  },
  {
   "cell_type": "code",
   "execution_count": null,
   "metadata": {},
   "outputs": [],
   "source": [
    "# Mistral-7b-v0.1\n",
    "parse_dataset(sentences, \"mistralai/Mistral-7B-v0.1\", False)"
   ]
  },
  {
   "cell_type": "code",
   "execution_count": null,
   "metadata": {},
   "outputs": [],
   "source": [
    "# Mixtral-8x7b-Instruct-v0.1\n",
    "parse_dataset(sentences, \"mistralai/Mixtral-8x7B-Instruct-v0.1\", True)"
   ]
  },
  {
   "cell_type": "code",
   "execution_count": null,
   "metadata": {},
   "outputs": [],
   "source": [
    "# Mixtral-8x7B-v0.1\n",
    "parse_dataset(sentences, \"mistralai/Mixtral-8x7B-v0.1\", False)"
   ]
  },
  {
   "cell_type": "code",
   "execution_count": null,
   "metadata": {},
   "outputs": [],
   "source": [
    "# Qwen2.5-Coder-32B-Instruct\n",
    "parse_dataset(sentences, \"qwen/qwen2.5-coder-32b-instruct\", True)"
   ]
  },
  {
   "cell_type": "code",
   "execution_count": null,
   "metadata": {},
   "outputs": [],
   "source": [
    "# QwQ-32B-Preview\n",
    "parse_dataset(sentences, \"Qwen/QwQ-32B-Preview\", False)"
   ]
  }
 ],
 "metadata": {
  "kernelspec": {
   "display_name": "base",
   "language": "python",
   "name": "python3"
  },
  "language_info": {
   "codemirror_mode": {
    "name": "ipython",
    "version": 3
   },
   "file_extension": ".py",
   "mimetype": "text/x-python",
   "name": "python",
   "nbconvert_exporter": "python",
   "pygments_lexer": "ipython3",
   "version": "3.8.8"
  }
 },
 "nbformat": 4,
 "nbformat_minor": 2
}
