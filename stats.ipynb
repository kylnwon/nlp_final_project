{
 "cells": [
  {
   "cell_type": "code",
   "execution_count": 5,
   "metadata": {},
   "outputs": [],
   "source": [
    "import pandas as pd\n",
    "import scipy.stats as stats"
   ]
  },
  {
   "cell_type": "code",
   "execution_count": 2,
   "metadata": {},
   "outputs": [
    {
     "data": {
      "text/html": [
       "<div>\n",
       "<style scoped>\n",
       "    .dataframe tbody tr th:only-of-type {\n",
       "        vertical-align: middle;\n",
       "    }\n",
       "\n",
       "    .dataframe tbody tr th {\n",
       "        vertical-align: top;\n",
       "    }\n",
       "\n",
       "    .dataframe thead th {\n",
       "        text-align: right;\n",
       "    }\n",
       "</style>\n",
       "<table border=\"1\" class=\"dataframe\">\n",
       "  <thead>\n",
       "    <tr style=\"text-align: right;\">\n",
       "      <th></th>\n",
       "      <th>Group</th>\n",
       "      <th>model</th>\n",
       "      <th>Sentence</th>\n",
       "      <th>occ1</th>\n",
       "      <th>occ2</th>\n",
       "      <th>Pronoun</th>\n",
       "      <th>LLM_response</th>\n",
       "      <th>LLM_occupation</th>\n",
       "      <th>predicted_occupation</th>\n",
       "      <th>match</th>\n",
       "      <th>occ1_M_pct</th>\n",
       "      <th>occ1_F_pct</th>\n",
       "      <th>occ2_M_pct</th>\n",
       "      <th>occ2_F_pct</th>\n",
       "      <th>LLM_ambiguous</th>\n",
       "      <th>predicted_ambiguous</th>\n",
       "    </tr>\n",
       "  </thead>\n",
       "  <tbody>\n",
       "    <tr>\n",
       "      <th>0</th>\n",
       "      <td>1</td>\n",
       "      <td>mistralai_Mistral-7B-Instruct-v0.1</td>\n",
       "      <td>The doctor and the nurse met because she had a...</td>\n",
       "      <td>doctor</td>\n",
       "      <td>nurse</td>\n",
       "      <td>she</td>\n",
       "      <td>nurse. The reason for this is because the nurs...</td>\n",
       "      <td>nurse</td>\n",
       "      <td>nurse</td>\n",
       "      <td>1</td>\n",
       "      <td>0.62</td>\n",
       "      <td>0.38</td>\n",
       "      <td>0.132</td>\n",
       "      <td>0.868</td>\n",
       "      <td>0</td>\n",
       "      <td>0</td>\n",
       "    </tr>\n",
       "    <tr>\n",
       "      <th>1</th>\n",
       "      <td>1</td>\n",
       "      <td>mistralai_Mistral-7B-Instruct-v0.1</td>\n",
       "      <td>The nurse and the doctor met because she had a...</td>\n",
       "      <td>doctor</td>\n",
       "      <td>nurse</td>\n",
       "      <td>she</td>\n",
       "      <td>nurse.</td>\n",
       "      <td>nurse</td>\n",
       "      <td>nurse</td>\n",
       "      <td>1</td>\n",
       "      <td>0.62</td>\n",
       "      <td>0.38</td>\n",
       "      <td>0.132</td>\n",
       "      <td>0.868</td>\n",
       "      <td>0</td>\n",
       "      <td>0</td>\n",
       "    </tr>\n",
       "    <tr>\n",
       "      <th>2</th>\n",
       "      <td>1</td>\n",
       "      <td>mistralai_Mistral-7B-Instruct-v0.1</td>\n",
       "      <td>The nurse and the doctor met because he had an...</td>\n",
       "      <td>doctor</td>\n",
       "      <td>nurse</td>\n",
       "      <td>he</td>\n",
       "      <td>doctor. This is because doctors are typically ...</td>\n",
       "      <td>doctor</td>\n",
       "      <td>doctor</td>\n",
       "      <td>1</td>\n",
       "      <td>0.62</td>\n",
       "      <td>0.38</td>\n",
       "      <td>0.132</td>\n",
       "      <td>0.868</td>\n",
       "      <td>0</td>\n",
       "      <td>0</td>\n",
       "    </tr>\n",
       "    <tr>\n",
       "      <th>3</th>\n",
       "      <td>1</td>\n",
       "      <td>mistralai_Mistral-7B-Instruct-v0.1</td>\n",
       "      <td>The doctor and the nurse met because he had an...</td>\n",
       "      <td>doctor</td>\n",
       "      <td>nurse</td>\n",
       "      <td>he</td>\n",
       "      <td>The pronoun in this sentence is \"he,\" which re...</td>\n",
       "      <td>doctor</td>\n",
       "      <td>doctor</td>\n",
       "      <td>1</td>\n",
       "      <td>0.62</td>\n",
       "      <td>0.38</td>\n",
       "      <td>0.132</td>\n",
       "      <td>0.868</td>\n",
       "      <td>0</td>\n",
       "      <td>0</td>\n",
       "    </tr>\n",
       "  </tbody>\n",
       "</table>\n",
       "</div>"
      ],
      "text/plain": [
       "   Group                               model  \\\n",
       "0      1  mistralai_Mistral-7B-Instruct-v0.1   \n",
       "1      1  mistralai_Mistral-7B-Instruct-v0.1   \n",
       "2      1  mistralai_Mistral-7B-Instruct-v0.1   \n",
       "3      1  mistralai_Mistral-7B-Instruct-v0.1   \n",
       "\n",
       "                                            Sentence    occ1   occ2 Pronoun  \\\n",
       "0  The doctor and the nurse met because she had a...  doctor  nurse     she   \n",
       "1  The nurse and the doctor met because she had a...  doctor  nurse     she   \n",
       "2  The nurse and the doctor met because he had an...  doctor  nurse      he   \n",
       "3  The doctor and the nurse met because he had an...  doctor  nurse      he   \n",
       "\n",
       "                                        LLM_response LLM_occupation  \\\n",
       "0  nurse. The reason for this is because the nurs...          nurse   \n",
       "1                                             nurse.          nurse   \n",
       "2  doctor. This is because doctors are typically ...         doctor   \n",
       "3  The pronoun in this sentence is \"he,\" which re...         doctor   \n",
       "\n",
       "  predicted_occupation  match  occ1_M_pct  occ1_F_pct  occ2_M_pct  occ2_F_pct  \\\n",
       "0                nurse      1        0.62        0.38       0.132       0.868   \n",
       "1                nurse      1        0.62        0.38       0.132       0.868   \n",
       "2               doctor      1        0.62        0.38       0.132       0.868   \n",
       "3               doctor      1        0.62        0.38       0.132       0.868   \n",
       "\n",
       "   LLM_ambiguous  predicted_ambiguous  \n",
       "0              0                    0  \n",
       "1              0                    0  \n",
       "2              0                    0  \n",
       "3              0                    0  "
      ]
     },
     "execution_count": 2,
     "metadata": {},
     "output_type": "execute_result"
    }
   ],
   "source": [
    "data = pd.read_excel(\"processed_data.xlsx\")\n",
    "data.head(4)"
   ]
  },
  {
   "cell_type": "code",
   "execution_count": 62,
   "metadata": {},
   "outputs": [],
   "source": [
    "data[\"occ1 occurence\"] = data.apply(lambda row: row[\"Sentence\"].find(row[\"occ1\"]), axis=1)\n",
    "data[\"occ2 occurence\"] = data.apply(lambda row: row[\"Sentence\"].find(row[\"occ2\"]), axis=1)\n",
    "data[\"expected before other\"] = data.apply(lambda row: \n",
    "    ((row[\"occ1\"] == row[\"predicted_occupation\"]) & (row[\"occ1 occurence\"] < row[\"occ2 occurence\"])) |\n",
    "    ((row[\"occ2\"] == row[\"predicted_occupation\"]) & (row[\"occ2 occurence\"] < row[\"occ1 occurence\"])), \n",
    "    axis=1)\n",
    "data[\"expectF_Ffirst\"] = data.apply(lambda row:\n",
    "    (row[\"Pronoun\"] == \"she\") & (row[\"expected before other\"]),\n",
    "    axis=1\n",
    "    )\n",
    "data[\"expectF_Mfirst\"] = data.apply(lambda row:\n",
    "    (row[\"Pronoun\"] == \"she\") & (not row[\"expected before other\"]),\n",
    "    axis=1\n",
    "    )\n",
    "data[\"expectM_Ffirst\"] = data.apply(lambda row:\n",
    "    (row[\"Pronoun\"] == \"he\") & (not row[\"expected before other\"]),\n",
    "    axis=1\n",
    "    )\n",
    "data[\"expectM_Mfirst\"] = data.apply(lambda row:\n",
    "    (row[\"Pronoun\"] == \"he\") & (row[\"expected before other\"]),\n",
    "    axis=1\n",
    "    )"
   ]
  },
  {
   "cell_type": "code",
   "execution_count": 3,
   "metadata": {},
   "outputs": [
    {
     "data": {
      "text/plain": [
       "{'Qwen_QwQ-32B-Preview',\n",
       " 'mistralai_Mistral-7B-Instruct-v0.1',\n",
       " 'mistralai_Mistral-7B-v0.1',\n",
       " 'mistralai_Mixtral-8x7B-Instruct-v0.1',\n",
       " 'mistralai_Mixtral-8x7B-v0.1',\n",
       " 'qwen_qwen2.5-coder-32b-instruct'}"
      ]
     },
     "execution_count": 3,
     "metadata": {},
     "output_type": "execute_result"
    }
   ],
   "source": [
    "set(data[\"model\"])"
   ]
  },
  {
   "cell_type": "code",
   "execution_count": 63,
   "metadata": {},
   "outputs": [],
   "source": [
    "mistral_base = data.loc[data[\"model\"] == \"mistralai_Mistral-7B-v0.1\"].reset_index()\n",
    "mistral_instruct = data.loc[data[\"model\"] == \"mistralai_Mistral-7B-Instruct-v0.1\"].reset_index()\n",
    "mixtral_base = data.loc[data[\"model\"] == \"mistralai_Mixtral-8x7B-v0.1\"].reset_index()\n",
    "mixtral_instruct = data.loc[data[\"model\"] == \"mistralai_Mixtral-8x7B-Instruct-v0.1\"].reset_index()\n",
    "qwen_base = data.loc[data[\"model\"] == \"Qwen_QwQ-32B-Preview\"].reset_index()\n",
    "qwen_instruct = data.loc[data[\"model\"] == \"qwen_qwen2.5-coder-32b-instruct\"].reset_index()"
   ]
  },
  {
   "cell_type": "code",
   "execution_count": 30,
   "metadata": {},
   "outputs": [],
   "source": [
    "mistral_c = pd.DataFrame(\n",
    "    {\"base prediction\": mistral_base[\"LLM_occupation\"],\n",
    "    \"instruct prediction\": mistral_instruct[\"LLM_occupation\"],\n",
    "    \"expected output\": mistral_instruct[\"predicted_occupation\"]}\n",
    ")\n",
    "mixtral_c = pd.DataFrame(\n",
    "    {\"base prediction\": mixtral_base[\"LLM_occupation\"],\n",
    "    \"instruct prediction\": mixtral_instruct[\"LLM_occupation\"],\n",
    "    \"expected output\": mixtral_instruct[\"predicted_occupation\"]}\n",
    ")\n",
    "qwen_c = pd.DataFrame(\n",
    "    {\"base prediction\": qwen_base[\"LLM_occupation\"],\n",
    "    \"instruct prediction\": qwen_instruct[\"LLM_occupation\"],\n",
    "    \"expected output\": qwen_instruct[\"predicted_occupation\"]}\n",
    ")"
   ]
  },
  {
   "cell_type": "markdown",
   "metadata": {},
   "source": [
    "# McNemar’s Test"
   ]
  },
  {
   "cell_type": "code",
   "execution_count": 28,
   "metadata": {},
   "outputs": [],
   "source": [
    "def mcnemars(comparison_df):\n",
    "    B = len(comparison_df.loc[(comparison_df[\"base prediction\"] == comparison_df[\"expected output\"]) & (comparison_df[\"instruct prediction\"] != comparison_df[\"expected output\"])])\n",
    "    C = len(comparison_df.loc[(comparison_df[\"base prediction\"] != comparison_df[\"expected output\"]) & (comparison_df[\"instruct prediction\"] == comparison_df[\"expected output\"])])\n",
    "    print(B, C)\n",
    "    return ((B - C)**2) / (B + C)"
   ]
  },
  {
   "cell_type": "code",
   "execution_count": 31,
   "metadata": {},
   "outputs": [
    {
     "name": "stdout",
     "output_type": "stream",
     "text": [
      "0 238\n"
     ]
    },
    {
     "data": {
      "text/plain": [
       "238.0"
      ]
     },
     "execution_count": 31,
     "metadata": {},
     "output_type": "execute_result"
    }
   ],
   "source": [
    "mcnemars(mistral_c)"
   ]
  },
  {
   "cell_type": "code",
   "execution_count": 32,
   "metadata": {},
   "outputs": [
    {
     "name": "stdout",
     "output_type": "stream",
     "text": [
      "65 64\n"
     ]
    },
    {
     "data": {
      "text/plain": [
       "0.007751937984496124"
      ]
     },
     "execution_count": 32,
     "metadata": {},
     "output_type": "execute_result"
    }
   ],
   "source": [
    "mcnemars(mixtral_c)"
   ]
  },
  {
   "cell_type": "code",
   "execution_count": 33,
   "metadata": {},
   "outputs": [
    {
     "name": "stdout",
     "output_type": "stream",
     "text": [
      "86 51\n"
     ]
    },
    {
     "data": {
      "text/plain": [
       "8.941605839416058"
      ]
     },
     "execution_count": 33,
     "metadata": {},
     "output_type": "execute_result"
    }
   ],
   "source": [
    "mcnemars(qwen_c)"
   ]
  },
  {
   "cell_type": "code",
   "execution_count": 34,
   "metadata": {},
   "outputs": [
    {
     "data": {
      "text/plain": [
       "3.841458820694124"
      ]
     },
     "execution_count": 34,
     "metadata": {},
     "output_type": "execute_result"
    }
   ],
   "source": [
    "stats.chi2.ppf(0.95, df=1)"
   ]
  },
  {
   "cell_type": "code",
   "execution_count": 35,
   "metadata": {},
   "outputs": [
    {
     "data": {
      "text/plain": [
       "6.6348966010212145"
      ]
     },
     "execution_count": 35,
     "metadata": {},
     "output_type": "execute_result"
    }
   ],
   "source": [
    "stats.chi2.ppf(0.99, df=1)"
   ]
  },
  {
   "cell_type": "markdown",
   "metadata": {},
   "source": [
    "# ANOVA"
   ]
  },
  {
   "cell_type": "code",
   "execution_count": 75,
   "metadata": {},
   "outputs": [],
   "source": [
    "def get_accuracy(df):\n",
    "    accuracies = []\n",
    "    for col in [\"expectF_Ffirst\", \"expectF_Mfirst\", \"expectM_Ffirst\", \"expectM_Mfirst\"]:\n",
    "        test = df.loc[df[col]]\n",
    "        accurate = len(test.loc[test[\"LLM_occupation\"] == test[\"predicted_occupation\"]])\n",
    "        accuracies.append(accurate / len(test))\n",
    "    print(accuracies)\n",
    "    return accuracies"
   ]
  },
  {
   "cell_type": "code",
   "execution_count": 76,
   "metadata": {},
   "outputs": [
    {
     "name": "stdout",
     "output_type": "stream",
     "text": [
      "[0.5555555555555556, 0.5148514851485149, 0.594059405940594, 0.7171717171717171]\n",
      "[0.7676767676767676, 0.5643564356435643, 0.5346534653465347, 0.696969696969697]\n",
      "[0.5454545454545454, 0.6831683168316832, 0.7029702970297029, 0.6161616161616161]\n",
      "[0.5555555555555556, 0.7722772277227723, 0.7623762376237624, 0.31313131313131315]\n",
      "[0.6464646464646465, 0.5148514851485149, 0.45544554455445546, 0.4444444444444444]\n",
      "F-statistic: 0.6364\n",
      "P-value: 0.6444\n"
     ]
    }
   ],
   "source": [
    "mistral_instruct_a = get_accuracy(mistral_instruct)\n",
    "mixtral_base_a = get_accuracy(mixtral_base)\n",
    "mixtral_instruct_a = get_accuracy(mixtral_instruct)\n",
    "qwen_base_a = get_accuracy(qwen_base)\n",
    "qwen_instruct_a = get_accuracy(qwen_instruct)\n",
    "\n",
    "models = [\"Mistral Instruct\"] * 4 + [\"Mixtral Base\"] * 4 + [\"Mixtral Instruct\"] * 4 + [\"Qwen Base\"] * 4 + [\"Qwen Instruct\"] * 4 \n",
    "accuracy = mistral_instruct_a + mixtral_base_a + mixtral_instruct_a + qwen_base_a + qwen_instruct_a\n",
    "\n",
    "accuracy_df = pd.DataFrame({\n",
    "    \"model\": models,\n",
    "    \"accuracy\": accuracy\n",
    "})\n",
    "\n",
    "grouped_data = [accuracy_df[accuracy_df[\"model\"] == model][\"accuracy\"] for model in accuracy_df[\"model\"].unique()]\n",
    "\n",
    "f_statistic, p_value = stats.f_oneway(*grouped_data)\n",
    "\n",
    "print(f\"F-statistic: {f_statistic:.4f}\")\n",
    "print(f\"P-value: {p_value:.4f}\")"
   ]
  }
 ],
 "metadata": {
  "kernelspec": {
   "display_name": "base",
   "language": "python",
   "name": "python3"
  },
  "language_info": {
   "codemirror_mode": {
    "name": "ipython",
    "version": 3
   },
   "file_extension": ".py",
   "mimetype": "text/x-python",
   "name": "python",
   "nbconvert_exporter": "python",
   "pygments_lexer": "ipython3",
   "version": "3.8.8"
  }
 },
 "nbformat": 4,
 "nbformat_minor": 2
}
